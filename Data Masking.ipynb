{
 "cells": [
  {
   "cell_type": "code",
   "execution_count": null,
   "metadata": {},
   "outputs": [],
   "source": [
    "ID = '1111111111'"
   ]
  },
  {
   "cell_type": "code",
   "execution_count": 3,
   "metadata": {},
   "outputs": [],
   "source": [
    "import rsa"
   ]
  },
  {
   "cell_type": "markdown",
   "metadata": {},
   "source": [
    "This method generates a public and private key.\n",
    "Public key is used to encrypt the data.\n",
    "Private key is used to decrypt the data. "
   ]
  },
  {
   "cell_type": "code",
   "execution_count": 11,
   "metadata": {},
   "outputs": [],
   "source": [
    "publicKey, privateKey = rsa.newkeys(777)"
   ]
  },
  {
   "cell_type": "code",
   "execution_count": 12,
   "metadata": {},
   "outputs": [
    {
     "name": "stdout",
     "output_type": "stream",
     "text": [
      "b'\\x85\\xc3N\"\\xd5&\\x01\\x85\\x94\\xba\\xf5\\x9f\\xdb\\xde0\\xf4 <\\x81\\x00\\x9c\\xe4\\xf4\\x87\\xbd\\x12\\x0b\\xcd\\x86\\x1aj,\\xce\\x83g\\xd1\\xa1\\x1b\\x9f\\xb4\\xa0,\\xfb\\xf4\\x99\\x14\\xb5\\x9a\\xe5`\\xfc\\xad\\xd45\\xef\\x0fd2H\\xbaUA\\xc6\\xb7\\x1b\\xcb,\\x06\\xce\\xd6\\nRf\\xbb\\x03*\\xc2Zb\\xdf\\x9e\\x98\\x8b).\\xa9v8t\\x96\\x93\\x05\\xb2\\x07\\n\\r\\xa2'\n"
     ]
    }
   ],
   "source": [
    "IDencrypt = rsa.encrypt(ID.encode(), publicKey)\n",
    "print(IDencrypt)"
   ]
  },
  {
   "cell_type": "code",
   "execution_count": 6,
   "metadata": {},
   "outputs": [
    {
     "name": "stdout",
     "output_type": "stream",
     "text": [
      "1111111111\n"
     ]
    }
   ],
   "source": [
    "IDdecrypt = rsa.decrypt(IDencrypt, privateKey).decode()\n",
    "print(IDdecrypt)"
   ]
  },
  {
   "cell_type": "markdown",
   "metadata": {},
   "source": [
    "This method uses one key (stored in Fernet clas instance) to both encrypt and decrypt the data. The key generated should be stored."
   ]
  },
  {
   "cell_type": "code",
   "execution_count": 15,
   "metadata": {},
   "outputs": [],
   "source": [
    "from cryptography.fernet import Fernet"
   ]
  },
  {
   "cell_type": "code",
   "execution_count": 16,
   "metadata": {},
   "outputs": [],
   "source": [
    "key = Fernet.generate_key()\n",
    "f = Fernet(key)"
   ]
  },
  {
   "cell_type": "code",
   "execution_count": 17,
   "metadata": {},
   "outputs": [
    {
     "name": "stdout",
     "output_type": "stream",
     "text": [
      "b'gAAAAABiTZzTXlQMC8jYTLDeLyrp9K8MoJNVSNbpzMKnKgmPJO9wrY4bn-5LSGdJpWDOHJt3Ya1boWOV-z6Joh-dryWMkW240g=='\n"
     ]
    }
   ],
   "source": [
    "IDencrypt = f.encrypt(ID.encode())\n",
    "print(IDencrypt)"
   ]
  },
  {
   "cell_type": "code",
   "execution_count": 20,
   "metadata": {},
   "outputs": [
    {
     "name": "stdout",
     "output_type": "stream",
     "text": [
      "1111111111\n"
     ]
    }
   ],
   "source": [
    "IDdecrypt = f.decrypt(IDencrypt).decode()\n",
    "print(IDdecrypt)"
   ]
  }
 ],
 "metadata": {
  "kernelspec": {
   "display_name": "Python 3",
   "language": "python",
   "name": "python3"
  },
  "language_info": {
   "codemirror_mode": {
    "name": "ipython",
    "version": 3
   },
   "file_extension": ".py",
   "mimetype": "text/x-python",
   "name": "python",
   "nbconvert_exporter": "python",
   "pygments_lexer": "ipython3",
   "version": "3.8.5"
  }
 },
 "nbformat": 4,
 "nbformat_minor": 4
}
